{
  "nbformat": 4,
  "nbformat_minor": 0,
  "metadata": {
    "colab": {
      "name": "Copy of Capstone_LSTM.ipynb",
      "provenance": [],
      "collapsed_sections": []
    },
    "kernelspec": {
      "name": "python3",
      "display_name": "Python 3"
    }
  },
  "cells": [
    {
      "cell_type": "markdown",
      "metadata": {
        "id": "Kd_2bUqY6QjL",
        "colab_type": "text"
      },
      "source": [
        "Using Google Colab's Jupyter Notebook. \n",
        "Mounting Google Drive"
      ]
    },
    {
      "cell_type": "code",
      "metadata": {
        "id": "lh-xhm0OEndK",
        "colab_type": "code",
        "outputId": "46fda894-80a1-4ec2-84e1-10b21a9769a0",
        "colab": {
          "base_uri": "https://localhost:8080/",
          "height": 121
        }
      },
      "source": [
        "from google.colab import drive\n",
        "drive.mount('/content/drive')"
      ],
      "execution_count": 0,
      "outputs": [
        {
          "output_type": "stream",
          "text": [
            "Go to this URL in a browser: https://accounts.google.com/o/oauth2/auth?client_id=947318989803-6bn6qk8qdgf4n4g3pfee6491hc0brc4i.apps.googleusercontent.com&redirect_uri=urn%3aietf%3awg%3aoauth%3a2.0%3aoob&response_type=code&scope=email%20https%3a%2f%2fwww.googleapis.com%2fauth%2fdocs.test%20https%3a%2f%2fwww.googleapis.com%2fauth%2fdrive%20https%3a%2f%2fwww.googleapis.com%2fauth%2fdrive.photos.readonly%20https%3a%2f%2fwww.googleapis.com%2fauth%2fpeopleapi.readonly\n",
            "\n",
            "Enter your authorization code:\n",
            "··········\n",
            "Mounted at /content/drive\n"
          ],
          "name": "stdout"
        }
      ]
    },
    {
      "cell_type": "markdown",
      "metadata": {
        "id": "56Y3zCvj64x4",
        "colab_type": "text"
      },
      "source": [
        "For LSTM, using Keras Neural Network library."
      ]
    },
    {
      "cell_type": "code",
      "metadata": {
        "id": "ofaIdBH6AZGj",
        "colab_type": "code",
        "colab": {}
      },
      "source": [
        "import numpy as np \n",
        "import pandas as pd \n",
        "import matplotlib.pyplot as plt\n",
        "%matplotlib inline\n",
        "from statsmodels.tools.eval_measures import rmse\n",
        "from sklearn.preprocessing import MinMaxScaler\n",
        "from keras.preprocessing.sequence import TimeseriesGenerator\n",
        "from keras.models import Sequential\n",
        "from keras.layers import LSTM\n",
        "from keras.layers import Dense\n",
        "from keras.layers import Dropout\n",
        "import warnings\n",
        "warnings.filterwarnings(\"ignore\")\n"
      ],
      "execution_count": 0,
      "outputs": []
    },
    {
      "cell_type": "markdown",
      "metadata": {
        "id": "f13eCt8s7AiF",
        "colab_type": "text"
      },
      "source": [
        "Loading the dataset. "
      ]
    },
    {
      "cell_type": "code",
      "metadata": {
        "id": "Jv4E08gsCqLD",
        "colab_type": "code",
        "colab": {}
      },
      "source": [
        "df = pd.read_csv('/content/drive/My Drive/Colab Notebooks/Capstone/order_data_v3.csv')"
      ],
      "execution_count": 0,
      "outputs": []
    },
    {
      "cell_type": "code",
      "metadata": {
        "id": "D0lA1XvJCqwo",
        "colab_type": "code",
        "outputId": "6501ecd6-8661-42f1-f874-edc54464e0ba",
        "colab": {
          "base_uri": "https://localhost:8080/",
          "height": 195
        }
      },
      "source": [
        "df.columns = ['Date', 'sum_volume']\n",
        "df.head()"
      ],
      "execution_count": 0,
      "outputs": [
        {
          "output_type": "execute_result",
          "data": {
            "text/html": [
              "<div>\n",
              "<style scoped>\n",
              "    .dataframe tbody tr th:only-of-type {\n",
              "        vertical-align: middle;\n",
              "    }\n",
              "\n",
              "    .dataframe tbody tr th {\n",
              "        vertical-align: top;\n",
              "    }\n",
              "\n",
              "    .dataframe thead th {\n",
              "        text-align: right;\n",
              "    }\n",
              "</style>\n",
              "<table border=\"1\" class=\"dataframe\">\n",
              "  <thead>\n",
              "    <tr style=\"text-align: right;\">\n",
              "      <th></th>\n",
              "      <th>Date</th>\n",
              "      <th>sum_volume</th>\n",
              "    </tr>\n",
              "  </thead>\n",
              "  <tbody>\n",
              "    <tr>\n",
              "      <th>0</th>\n",
              "      <td>1/1/2012</td>\n",
              "      <td>72747.4000</td>\n",
              "    </tr>\n",
              "    <tr>\n",
              "      <th>1</th>\n",
              "      <td>2/1/2012</td>\n",
              "      <td>163696.2700</td>\n",
              "    </tr>\n",
              "    <tr>\n",
              "      <th>2</th>\n",
              "      <td>3/1/2012</td>\n",
              "      <td>73296.6600</td>\n",
              "    </tr>\n",
              "    <tr>\n",
              "      <th>3</th>\n",
              "      <td>4/1/2012</td>\n",
              "      <td>86693.2200</td>\n",
              "    </tr>\n",
              "    <tr>\n",
              "      <th>4</th>\n",
              "      <td>5/1/2012</td>\n",
              "      <td>179203.8400</td>\n",
              "    </tr>\n",
              "  </tbody>\n",
              "</table>\n",
              "</div>"
            ],
            "text/plain": [
              "       Date  sum_volume\n",
              "0  1/1/2012  72747.4000\n",
              "1  2/1/2012 163696.2700\n",
              "2  3/1/2012  73296.6600\n",
              "3  4/1/2012  86693.2200\n",
              "4  5/1/2012 179203.8400"
            ]
          },
          "metadata": {
            "tags": []
          },
          "execution_count": 61
        }
      ]
    },
    {
      "cell_type": "markdown",
      "metadata": {
        "id": "nJwEHdCQ7Kd8",
        "colab_type": "text"
      },
      "source": [
        "Making the column 'Date' as a Date object and setting it as Index"
      ]
    },
    {
      "cell_type": "code",
      "metadata": {
        "id": "mIJ8mzsgCrKY",
        "colab_type": "code",
        "colab": {}
      },
      "source": [
        "df.Date = pd.to_datetime(df.Date)\n",
        "df = df.set_index('Date')"
      ],
      "execution_count": 0,
      "outputs": []
    },
    {
      "cell_type": "markdown",
      "metadata": {
        "id": "Ia6eGvDs7W72",
        "colab_type": "text"
      },
      "source": [
        "Splitting the dataset into Train and Test. \n",
        "\n",
        "Train - from 2012 to 2017\n",
        "\n",
        "Test - from 2018 onwards"
      ]
    },
    {
      "cell_type": "code",
      "metadata": {
        "id": "2F8FNTFXCrl3",
        "colab_type": "code",
        "colab": {}
      },
      "source": [
        "#train, test = df[:-12], df[-12:]\n",
        "\n",
        "train, test = df.loc[:'2017'], df.loc['2018']"
      ],
      "execution_count": 0,
      "outputs": []
    },
    {
      "cell_type": "code",
      "metadata": {
        "id": "XnMiK2zB5-es",
        "colab_type": "code",
        "outputId": "9b86016d-2e88-4e11-fef6-96b01ca81457",
        "colab": {
          "base_uri": "https://localhost:8080/",
          "height": 286
        }
      },
      "source": [
        "print(train.tail()); print(train.shape); print(test.head()); print(test.shape)"
      ],
      "execution_count": 0,
      "outputs": [
        {
          "output_type": "stream",
          "text": [
            "            sum_volume\n",
            "Date                  \n",
            "2017-08-01 151164.7400\n",
            "2017-09-01 200465.2600\n",
            "2017-10-01 195658.2600\n",
            "2017-11-01 116369.1800\n",
            "2017-12-01 194744.9700\n",
            "(72, 1)\n",
            "            sum_volume\n",
            "Date                  \n",
            "2018-01-01 112342.0000\n",
            "2018-02-01 203537.9300\n",
            "2018-03-01 111696.4900\n",
            "2018-04-01 119174.2700\n",
            "2018-05-01 254844.4800\n",
            "(12, 1)\n"
          ],
          "name": "stdout"
        }
      ]
    },
    {
      "cell_type": "markdown",
      "metadata": {
        "id": "nEPI_gRi7mHF",
        "colab_type": "text"
      },
      "source": [
        "For LSTM, we need to Scale the data. Using MinMaxScaler\n",
        "and then transform\n"
      ]
    },
    {
      "cell_type": "code",
      "metadata": {
        "id": "Ps3GVGJCF2RP",
        "colab_type": "code",
        "colab": {}
      },
      "source": [
        "scaler = MinMaxScaler()\n",
        "scaler.fit(train)\n",
        "train = scaler.transform(train)\n",
        "test = scaler.transform(test)"
      ],
      "execution_count": 0,
      "outputs": []
    },
    {
      "cell_type": "markdown",
      "metadata": {
        "id": "9m3inabj8FxO",
        "colab_type": "text"
      },
      "source": [
        "Using TimeseriesGenerator utility class for generating batches of temporal data.\n",
        "\n",
        "\n"
      ]
    },
    {
      "cell_type": "code",
      "metadata": {
        "id": "AjOiUcvC9EXu",
        "colab_type": "code",
        "colab": {}
      },
      "source": [
        "n_input = 12 # for 12 months\n",
        "n_features = 1\n",
        "generator = TimeseriesGenerator(train, train, length=n_input, batch_size=10)"
      ],
      "execution_count": 0,
      "outputs": []
    },
    {
      "cell_type": "markdown",
      "metadata": {
        "id": "6EKKkHz_9Hlg",
        "colab_type": "text"
      },
      "source": [
        "Defining the LSTM with 500 neurons in the first hidden layer and 1 neuron in the output layer for predicting sum_volume. \n",
        "\n",
        "Dropout 40%.\n",
        "\n",
        "Used the \"MSE\" loss function and the efficient \"Adam\" version of stochastic gradient descent.\n",
        "The model will be fit for 180 training epochs with a batch size of 10."
      ]
    },
    {
      "cell_type": "code",
      "metadata": {
        "id": "U9kC7WcuF6ex",
        "colab_type": "code",
        "colab": {}
      },
      "source": [
        "model = Sequential()\n",
        "model.add(LSTM(500, activation='relu', input_shape=(n_input, n_features)))\n",
        "model.add(Dropout(0.4))\n",
        "model.add(Dense(1))\n",
        "model.compile(optimizer='adam', loss='mse')\n",
        "model.fit_generator(generator, epochs = 180)"
      ],
      "execution_count": 0,
      "outputs": []
    },
    {
      "cell_type": "code",
      "metadata": {
        "id": "9BYXba7fTovF",
        "colab_type": "code",
        "outputId": "7b36b7a1-f65c-4aeb-872a-486e2efd4d00",
        "colab": {
          "base_uri": "https://localhost:8080/",
          "height": 252
        }
      },
      "source": [
        "model.summary()"
      ],
      "execution_count": 0,
      "outputs": [
        {
          "output_type": "stream",
          "text": [
            "Model: \"sequential_7\"\n",
            "_________________________________________________________________\n",
            "Layer (type)                 Output Shape              Param #   \n",
            "=================================================================\n",
            "lstm_7 (LSTM)                (None, 500)               1004000   \n",
            "_________________________________________________________________\n",
            "dropout_7 (Dropout)          (None, 500)               0         \n",
            "_________________________________________________________________\n",
            "dense_7 (Dense)              (None, 1)                 501       \n",
            "=================================================================\n",
            "Total params: 1,004,501\n",
            "Trainable params: 1,004,501\n",
            "Non-trainable params: 0\n",
            "_________________________________________________________________\n"
          ],
          "name": "stdout"
        }
      ]
    },
    {
      "cell_type": "markdown",
      "metadata": {
        "id": "6noFxQvn-7fA",
        "colab_type": "text"
      },
      "source": [
        "Model is ready. Predicting on training data. "
      ]
    },
    {
      "cell_type": "code",
      "metadata": {
        "id": "FSUQaC-NN8al",
        "colab_type": "code",
        "colab": {}
      },
      "source": [
        "pred_list = []\n",
        "\n",
        "batch = train[-n_input:].reshape((1, n_input, n_features))\n",
        "\n",
        "for i in range(n_input):\n",
        "  pred_list.append(model.predict(batch)[0])\n",
        "  batch = np.append(batch[:,1:,:],[[pred_list[i]]], axis=1)"
      ],
      "execution_count": 0,
      "outputs": []
    },
    {
      "cell_type": "markdown",
      "metadata": {
        "id": "rXs-hcBy4pMi",
        "colab_type": "text"
      },
      "source": [
        "Taking a copy of the initial test and train for later plots"
      ]
    },
    {
      "cell_type": "code",
      "metadata": {
        "id": "IDusxBA5UwP0",
        "colab_type": "code",
        "colab": {}
      },
      "source": [
        "df_train = df.loc[:'2017']; df_test = df.loc['2018']"
      ],
      "execution_count": 0,
      "outputs": []
    },
    {
      "cell_type": "markdown",
      "metadata": {
        "id": "k-UVmG-h4w6x",
        "colab_type": "text"
      },
      "source": [
        "Applying Inverse transform to get unscaled data for comparison"
      ]
    },
    {
      "cell_type": "code",
      "metadata": {
        "id": "VvTeP7OOJWQW",
        "colab_type": "code",
        "colab": {}
      },
      "source": [
        "df_predict = pd.DataFrame(scaler.inverse_transform(pred_list), index = df_train[-n_input:].index, columns=['Prediction'])\n",
        "\n",
        "df_trained = pd.concat([df_train, df_predict], axis=1)"
      ],
      "execution_count": 0,
      "outputs": []
    },
    {
      "cell_type": "code",
      "metadata": {
        "colab_type": "code",
        "id": "K5lqgcqrvgRb",
        "colab": {}
      },
      "source": [
        "df_trained_mape = df_trained.tail(12)\n"
      ],
      "execution_count": 0,
      "outputs": []
    },
    {
      "cell_type": "code",
      "metadata": {
        "id": "YaKjPiNwXIwn",
        "colab_type": "code",
        "colab": {}
      },
      "source": [
        "df_trained_mape['MAPE'] = ((abs(df_trained_mape['sum_volume'] - df_trained_mape['Prediction']) / df_trained_mape['sum_volume'])*100).round()"
      ],
      "execution_count": 0,
      "outputs": []
    },
    {
      "cell_type": "code",
      "metadata": {
        "id": "9mz4Ym7lXh7e",
        "colab_type": "code",
        "outputId": "4ad9a9e5-be6e-40d4-ee77-1e68986b28ee",
        "colab": {
          "base_uri": "https://localhost:8080/",
          "height": 34
        }
      },
      "source": [
        "print(\"MAPE of Train data : \",df_trained_mape['MAPE'].mean())"
      ],
      "execution_count": 0,
      "outputs": [
        {
          "output_type": "stream",
          "text": [
            "MAPE of Train data :  4.0\n"
          ],
          "name": "stdout"
        }
      ]
    },
    {
      "cell_type": "markdown",
      "metadata": {
        "id": "8JOOLBhG4_UP",
        "colab_type": "text"
      },
      "source": [
        "Plotting of last 12 month Prediction on Train data"
      ]
    },
    {
      "cell_type": "code",
      "metadata": {
        "id": "h0i85v0PxE0f",
        "colab_type": "code",
        "outputId": "242d3bb5-6f76-4d9f-858f-931eeeee1337",
        "colab": {
          "base_uri": "https://localhost:8080/",
          "height": 321
        }
      },
      "source": [
        "plt.figure(figsize=(10,5))\n",
        "plt.plot(df_trained.index, df_trained['sum_volume'])\n",
        "plt.plot(df_trained.index, df_trained['Prediction'], color = 'r')\n",
        "plt.show()"
      ],
      "execution_count": 0,
      "outputs": [
        {
          "output_type": "display_data",
          "data": {
            "image/png": "[encoded data removed]",
            "text/plain": [
              "<Figure size 720x360 with 1 Axes>"
            ]
          },
          "metadata": {
            "tags": []
          }
        }
      ]
    },
    {
      "cell_type": "markdown",
      "metadata": {
        "id": "MZXPOORp5Hxf",
        "colab_type": "text"
      },
      "source": [
        "Predicting on Test data of 2018"
      ]
    },
    {
      "cell_type": "code",
      "metadata": {
        "id": "E-At6JqTVcSN",
        "colab_type": "code",
        "colab": {}
      },
      "source": [
        "pred_list_test = []\n",
        "\n",
        "batch = test[-n_input:].reshape((1, n_input, n_features))\n",
        "\n",
        "for i in range(n_input):\n",
        "  pred_list_test.append(model.predict(batch)[0])\n",
        "  batch = np.append(batch[:,1:,:],[[pred_list_test[i]]], axis=1)"
      ],
      "execution_count": 0,
      "outputs": []
    },
    {
      "cell_type": "code",
      "metadata": {
        "id": "3oNeasHlVcJs",
        "colab_type": "code",
        "colab": {}
      },
      "source": [
        "df_predict_test = pd.DataFrame(scaler.inverse_transform(pred_list_test), index = df_test[-n_input:].index, columns=['Prediction'])\n",
        "\n",
        "df_trained_tested = pd.concat([df_test, df_predict_test], axis=1)"
      ],
      "execution_count": 0,
      "outputs": []
    },
    {
      "cell_type": "code",
      "metadata": {
        "id": "qoqhIQ1jVb98",
        "colab_type": "code",
        "outputId": "2ab6d3d7-64ca-4cf9-edc0-a7b8a5440cbe",
        "colab": {
          "base_uri": "https://localhost:8080/",
          "height": 432
        }
      },
      "source": [
        "df_trained_tested"
      ],
      "execution_count": 0,
      "outputs": [
        {
          "output_type": "execute_result",
          "data": {
            "text/html": [
              "<div>\n",
              "<style scoped>\n",
              "    .dataframe tbody tr th:only-of-type {\n",
              "        vertical-align: middle;\n",
              "    }\n",
              "\n",
              "    .dataframe tbody tr th {\n",
              "        vertical-align: top;\n",
              "    }\n",
              "\n",
              "    .dataframe thead th {\n",
              "        text-align: right;\n",
              "    }\n",
              "</style>\n",
              "<table border=\"1\" class=\"dataframe\">\n",
              "  <thead>\n",
              "    <tr style=\"text-align: right;\">\n",
              "      <th></th>\n",
              "      <th>sum_volume</th>\n",
              "      <th>Prediction</th>\n",
              "    </tr>\n",
              "    <tr>\n",
              "      <th>Date</th>\n",
              "      <th></th>\n",
              "      <th></th>\n",
              "    </tr>\n",
              "  </thead>\n",
              "  <tbody>\n",
              "    <tr>\n",
              "      <th>2018-01-01</th>\n",
              "      <td>112342.0000</td>\n",
              "      <td>113099.1385</td>\n",
              "    </tr>\n",
              "    <tr>\n",
              "      <th>2018-02-01</th>\n",
              "      <td>203537.9300</td>\n",
              "      <td>213337.1931</td>\n",
              "    </tr>\n",
              "    <tr>\n",
              "      <th>2018-03-01</th>\n",
              "      <td>111696.4900</td>\n",
              "      <td>113397.9286</td>\n",
              "    </tr>\n",
              "    <tr>\n",
              "      <th>2018-04-01</th>\n",
              "      <td>119174.2700</td>\n",
              "      <td>127282.8003</td>\n",
              "    </tr>\n",
              "    <tr>\n",
              "      <th>2018-05-01</th>\n",
              "      <td>254844.4800</td>\n",
              "      <td>240102.3520</td>\n",
              "    </tr>\n",
              "    <tr>\n",
              "      <th>2018-06-01</th>\n",
              "      <td>119358.2400</td>\n",
              "      <td>117484.0377</td>\n",
              "    </tr>\n",
              "    <tr>\n",
              "      <th>2018-07-01</th>\n",
              "      <td>182610.8500</td>\n",
              "      <td>194170.8609</td>\n",
              "    </tr>\n",
              "    <tr>\n",
              "      <th>2018-08-01</th>\n",
              "      <td>136580.1900</td>\n",
              "      <td>135265.9844</td>\n",
              "    </tr>\n",
              "    <tr>\n",
              "      <th>2018-09-01</th>\n",
              "      <td>229870.0000</td>\n",
              "      <td>225052.2861</td>\n",
              "    </tr>\n",
              "    <tr>\n",
              "      <th>2018-10-01</th>\n",
              "      <td>189879.5800</td>\n",
              "      <td>195038.6768</td>\n",
              "    </tr>\n",
              "    <tr>\n",
              "      <th>2018-11-01</th>\n",
              "      <td>118072.3400</td>\n",
              "      <td>116566.5279</td>\n",
              "    </tr>\n",
              "    <tr>\n",
              "      <th>2018-12-01</th>\n",
              "      <td>219190.9700</td>\n",
              "      <td>220552.9856</td>\n",
              "    </tr>\n",
              "  </tbody>\n",
              "</table>\n",
              "</div>"
            ],
            "text/plain": [
              "            sum_volume  Prediction\n",
              "Date                              \n",
              "2018-01-01 112342.0000 113099.1385\n",
              "2018-02-01 203537.9300 213337.1931\n",
              "2018-03-01 111696.4900 113397.9286\n",
              "2018-04-01 119174.2700 127282.8003\n",
              "2018-05-01 254844.4800 240102.3520\n",
              "2018-06-01 119358.2400 117484.0377\n",
              "2018-07-01 182610.8500 194170.8609\n",
              "2018-08-01 136580.1900 135265.9844\n",
              "2018-09-01 229870.0000 225052.2861\n",
              "2018-10-01 189879.5800 195038.6768\n",
              "2018-11-01 118072.3400 116566.5279\n",
              "2018-12-01 219190.9700 220552.9856"
            ]
          },
          "metadata": {
            "tags": []
          },
          "execution_count": 143
        }
      ]
    },
    {
      "cell_type": "code",
      "metadata": {
        "id": "1WjrAs4yXvG1",
        "colab_type": "code",
        "colab": {}
      },
      "source": [
        "df_trained_tested['MAPE'] = ((abs(df_trained_tested['sum_volume'] - df_trained_tested['Prediction']) / df_trained_tested['sum_volume'])*100).round(4)"
      ],
      "execution_count": 0,
      "outputs": []
    },
    {
      "cell_type": "code",
      "metadata": {
        "id": "UNRasVVVXvCk",
        "colab_type": "code",
        "outputId": "0e8fb8c7-274a-490f-c934-2ac4547aa38d",
        "colab": {
          "base_uri": "https://localhost:8080/",
          "height": 34
        }
      },
      "source": [
        "print(\"MAPE on Test data : \",df_trained_tested['MAPE'].mean())"
      ],
      "execution_count": 0,
      "outputs": [
        {
          "output_type": "stream",
          "text": [
            "MAPE on Test data :  2.9310666666666667\n"
          ],
          "name": "stdout"
        }
      ]
    },
    {
      "cell_type": "markdown",
      "metadata": {
        "id": "44nSvlvv5NSI",
        "colab_type": "text"
      },
      "source": [
        "Plot of Prediction on Test data\n"
      ]
    },
    {
      "cell_type": "code",
      "metadata": {
        "id": "Ma63LjkUzgzf",
        "colab_type": "code",
        "outputId": "42717bea-4005-431a-b00e-5f28df4bd353",
        "colab": {
          "base_uri": "https://localhost:8080/",
          "height": 322
        }
      },
      "source": [
        "plt.figure(figsize=(10,5))\n",
        "plt.plot(df_trained_tested.index, df_trained_tested['sum_volume'])\n",
        "plt.plot(df_trained_tested.index, df_trained_tested['Prediction'], color = 'r')\n",
        "plt.show()"
      ],
      "execution_count": 0,
      "outputs": [
        {
          "output_type": "display_data",
          "data": {
            "image/png": "[encoded data removed]",
            "text/plain": [
              "<Figure size 720x360 with 1 Axes>"
            ]
          },
          "metadata": {
            "tags": []
          }
        }
      ]
    }
  ]
}